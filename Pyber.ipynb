{
 "cells": [
  {
   "cell_type": "markdown",
   "metadata": {
    "collapsed": true
   },
   "source": [
    "Pyber Ride Sharing Analysis\n",
    "\n",
    "Roughly 70% of all rides and total fare value come from Urban riders.\n",
    "Rural riders tend to take significantly higher cost, albeit fewer, trips than Urban or Suburban riders.\n",
    "While comprising of roughly 35% of all rides and fares, Suburban and Rural cities afford only 22% of Pyber's total driver population. There may be a strategic opportunity here to boost driver counts in these regions to enhance market share."
   ]
  },
  {
   "cell_type": "code",
   "execution_count": 1,
   "metadata": {
    "collapsed": true
   },
   "outputs": [],
   "source": [
    "import pandas as pd\n",
    "import numpy as np\n",
    "import os\n",
    "import matplotlib.pyplot as plt"
   ]
  },
  {
   "cell_type": "code",
   "execution_count": 2,
   "metadata": {},
   "outputs": [
    {
     "data": {
      "text/html": [
       "<div>\n",
       "<style>\n",
       "    .dataframe thead tr:only-child th {\n",
       "        text-align: right;\n",
       "    }\n",
       "\n",
       "    .dataframe thead th {\n",
       "        text-align: left;\n",
       "    }\n",
       "\n",
       "    .dataframe tbody tr th {\n",
       "        vertical-align: top;\n",
       "    }\n",
       "</style>\n",
       "<table border=\"1\" class=\"dataframe\">\n",
       "  <thead>\n",
       "    <tr style=\"text-align: right;\">\n",
       "      <th></th>\n",
       "      <th>city</th>\n",
       "      <th>driver_count</th>\n",
       "      <th>type</th>\n",
       "    </tr>\n",
       "  </thead>\n",
       "  <tbody>\n",
       "    <tr>\n",
       "      <th>0</th>\n",
       "      <td>Kelseyland</td>\n",
       "      <td>63</td>\n",
       "      <td>Urban</td>\n",
       "    </tr>\n",
       "    <tr>\n",
       "      <th>1</th>\n",
       "      <td>Nguyenbury</td>\n",
       "      <td>8</td>\n",
       "      <td>Urban</td>\n",
       "    </tr>\n",
       "    <tr>\n",
       "      <th>2</th>\n",
       "      <td>East Douglas</td>\n",
       "      <td>12</td>\n",
       "      <td>Urban</td>\n",
       "    </tr>\n",
       "    <tr>\n",
       "      <th>3</th>\n",
       "      <td>West Dawnfurt</td>\n",
       "      <td>34</td>\n",
       "      <td>Urban</td>\n",
       "    </tr>\n",
       "    <tr>\n",
       "      <th>4</th>\n",
       "      <td>Rodriguezburgh</td>\n",
       "      <td>52</td>\n",
       "      <td>Urban</td>\n",
       "    </tr>\n",
       "  </tbody>\n",
       "</table>\n",
       "</div>"
      ],
      "text/plain": [
       "             city  driver_count   type\n",
       "0      Kelseyland            63  Urban\n",
       "1      Nguyenbury             8  Urban\n",
       "2    East Douglas            12  Urban\n",
       "3   West Dawnfurt            34  Urban\n",
       "4  Rodriguezburgh            52  Urban"
      ]
     },
     "execution_count": 2,
     "metadata": {},
     "output_type": "execute_result"
    }
   ],
   "source": [
    "# read the csv files into pandas as dataframes\n",
    "filepath = os.path.join(\"raw_data\",\"city_data.csv\")\n",
    "city_df = pd.read_csv(filepath)\n",
    "filepath2 = os.path.join(\"raw_data\",\"ride_data.csv\")\n",
    "ride_df = pd.read_csv(filepath2)\n",
    "city_df.head()"
   ]
  },
  {
   "cell_type": "code",
   "execution_count": 3,
   "metadata": {},
   "outputs": [
    {
     "data": {
      "text/html": [
       "<div>\n",
       "<style>\n",
       "    .dataframe thead tr:only-child th {\n",
       "        text-align: right;\n",
       "    }\n",
       "\n",
       "    .dataframe thead th {\n",
       "        text-align: left;\n",
       "    }\n",
       "\n",
       "    .dataframe tbody tr th {\n",
       "        vertical-align: top;\n",
       "    }\n",
       "</style>\n",
       "<table border=\"1\" class=\"dataframe\">\n",
       "  <thead>\n",
       "    <tr style=\"text-align: right;\">\n",
       "      <th></th>\n",
       "      <th>city</th>\n",
       "      <th>date</th>\n",
       "      <th>fare</th>\n",
       "      <th>ride_id</th>\n",
       "    </tr>\n",
       "  </thead>\n",
       "  <tbody>\n",
       "    <tr>\n",
       "      <th>0</th>\n",
       "      <td>Sarabury</td>\n",
       "      <td>2016-01-16 13:49:27</td>\n",
       "      <td>38.35</td>\n",
       "      <td>5403689035038</td>\n",
       "    </tr>\n",
       "    <tr>\n",
       "      <th>1</th>\n",
       "      <td>South Roy</td>\n",
       "      <td>2016-01-02 18:42:34</td>\n",
       "      <td>17.49</td>\n",
       "      <td>4036272335942</td>\n",
       "    </tr>\n",
       "    <tr>\n",
       "      <th>2</th>\n",
       "      <td>Wiseborough</td>\n",
       "      <td>2016-01-21 17:35:29</td>\n",
       "      <td>44.18</td>\n",
       "      <td>3645042422587</td>\n",
       "    </tr>\n",
       "    <tr>\n",
       "      <th>3</th>\n",
       "      <td>Spencertown</td>\n",
       "      <td>2016-07-31 14:53:22</td>\n",
       "      <td>6.87</td>\n",
       "      <td>2242596575892</td>\n",
       "    </tr>\n",
       "    <tr>\n",
       "      <th>4</th>\n",
       "      <td>Nguyenbury</td>\n",
       "      <td>2016-07-09 04:42:44</td>\n",
       "      <td>6.28</td>\n",
       "      <td>1543057793673</td>\n",
       "    </tr>\n",
       "  </tbody>\n",
       "</table>\n",
       "</div>"
      ],
      "text/plain": [
       "          city                 date   fare        ride_id\n",
       "0     Sarabury  2016-01-16 13:49:27  38.35  5403689035038\n",
       "1    South Roy  2016-01-02 18:42:34  17.49  4036272335942\n",
       "2  Wiseborough  2016-01-21 17:35:29  44.18  3645042422587\n",
       "3  Spencertown  2016-07-31 14:53:22   6.87  2242596575892\n",
       "4   Nguyenbury  2016-07-09 04:42:44   6.28  1543057793673"
      ]
     },
     "execution_count": 3,
     "metadata": {},
     "output_type": "execute_result"
    }
   ],
   "source": [
    "ride_df.head()"
   ]
  },
  {
   "cell_type": "code",
   "execution_count": 4,
   "metadata": {},
   "outputs": [
    {
     "data": {
      "text/html": [
       "<div>\n",
       "<style>\n",
       "    .dataframe thead tr:only-child th {\n",
       "        text-align: right;\n",
       "    }\n",
       "\n",
       "    .dataframe thead th {\n",
       "        text-align: left;\n",
       "    }\n",
       "\n",
       "    .dataframe tbody tr th {\n",
       "        vertical-align: top;\n",
       "    }\n",
       "</style>\n",
       "<table border=\"1\" class=\"dataframe\">\n",
       "  <thead>\n",
       "    <tr style=\"text-align: right;\">\n",
       "      <th></th>\n",
       "      <th>city</th>\n",
       "      <th>driver_count</th>\n",
       "      <th>type</th>\n",
       "      <th>date</th>\n",
       "      <th>fare</th>\n",
       "      <th>ride_id</th>\n",
       "    </tr>\n",
       "  </thead>\n",
       "  <tbody>\n",
       "    <tr>\n",
       "      <th>1594</th>\n",
       "      <td>Alvarezhaven</td>\n",
       "      <td>21</td>\n",
       "      <td>Urban</td>\n",
       "      <td>2016-04-18 20:51:29</td>\n",
       "      <td>31.93</td>\n",
       "      <td>4267015736324</td>\n",
       "    </tr>\n",
       "    <tr>\n",
       "      <th>1595</th>\n",
       "      <td>Alvarezhaven</td>\n",
       "      <td>21</td>\n",
       "      <td>Urban</td>\n",
       "      <td>2016-08-01 00:39:48</td>\n",
       "      <td>6.42</td>\n",
       "      <td>8394540350728</td>\n",
       "    </tr>\n",
       "    <tr>\n",
       "      <th>1624</th>\n",
       "      <td>Alvarezhaven</td>\n",
       "      <td>21</td>\n",
       "      <td>Urban</td>\n",
       "      <td>2016-07-04 04:28:22</td>\n",
       "      <td>33.31</td>\n",
       "      <td>306054352684</td>\n",
       "    </tr>\n",
       "    <tr>\n",
       "      <th>1623</th>\n",
       "      <td>Alvarezhaven</td>\n",
       "      <td>21</td>\n",
       "      <td>Urban</td>\n",
       "      <td>2016-01-27 10:38:40</td>\n",
       "      <td>6.72</td>\n",
       "      <td>6152998520191</td>\n",
       "    </tr>\n",
       "    <tr>\n",
       "      <th>1622</th>\n",
       "      <td>Alvarezhaven</td>\n",
       "      <td>21</td>\n",
       "      <td>Urban</td>\n",
       "      <td>2016-05-16 15:33:14</td>\n",
       "      <td>6.45</td>\n",
       "      <td>8939751998750</td>\n",
       "    </tr>\n",
       "  </tbody>\n",
       "</table>\n",
       "</div>"
      ],
      "text/plain": [
       "              city  driver_count   type                 date   fare  \\\n",
       "1594  Alvarezhaven            21  Urban  2016-04-18 20:51:29  31.93   \n",
       "1595  Alvarezhaven            21  Urban  2016-08-01 00:39:48   6.42   \n",
       "1624  Alvarezhaven            21  Urban  2016-07-04 04:28:22  33.31   \n",
       "1623  Alvarezhaven            21  Urban  2016-01-27 10:38:40   6.72   \n",
       "1622  Alvarezhaven            21  Urban  2016-05-16 15:33:14   6.45   \n",
       "\n",
       "            ride_id  \n",
       "1594  4267015736324  \n",
       "1595  8394540350728  \n",
       "1624   306054352684  \n",
       "1623  6152998520191  \n",
       "1622  8939751998750  "
      ]
     },
     "execution_count": 4,
     "metadata": {},
     "output_type": "execute_result"
    }
   ],
   "source": [
    "# merge the above dataframes and sort by city\n",
    "merge_df = pd.merge(city_df,ride_df,on=\"city\",how=\"outer\")\n",
    "merge_df = merge_df.sort_values(\"city\")\n",
    "merge_df.head()"
   ]
  },
  {
   "cell_type": "code",
   "execution_count": 34,
   "metadata": {},
   "outputs": [
    {
     "data": {
      "text/html": [
       "<div>\n",
       "<style>\n",
       "    .dataframe thead tr:only-child th {\n",
       "        text-align: right;\n",
       "    }\n",
       "\n",
       "    .dataframe thead th {\n",
       "        text-align: left;\n",
       "    }\n",
       "\n",
       "    .dataframe tbody tr th {\n",
       "        vertical-align: top;\n",
       "    }\n",
       "</style>\n",
       "<table border=\"1\" class=\"dataframe\">\n",
       "  <thead>\n",
       "    <tr style=\"text-align: right;\">\n",
       "      <th></th>\n",
       "      <th>city</th>\n",
       "      <th>driver_count</th>\n",
       "      <th>type</th>\n",
       "    </tr>\n",
       "  </thead>\n",
       "  <tbody>\n",
       "    <tr>\n",
       "      <th>0</th>\n",
       "      <td>Kelseyland</td>\n",
       "      <td>63</td>\n",
       "      <td>Urban</td>\n",
       "    </tr>\n",
       "    <tr>\n",
       "      <th>1</th>\n",
       "      <td>Nguyenbury</td>\n",
       "      <td>8</td>\n",
       "      <td>Urban</td>\n",
       "    </tr>\n",
       "    <tr>\n",
       "      <th>2</th>\n",
       "      <td>East Douglas</td>\n",
       "      <td>12</td>\n",
       "      <td>Urban</td>\n",
       "    </tr>\n",
       "    <tr>\n",
       "      <th>3</th>\n",
       "      <td>West Dawnfurt</td>\n",
       "      <td>34</td>\n",
       "      <td>Urban</td>\n",
       "    </tr>\n",
       "    <tr>\n",
       "      <th>4</th>\n",
       "      <td>Rodriguezburgh</td>\n",
       "      <td>52</td>\n",
       "      <td>Urban</td>\n",
       "    </tr>\n",
       "  </tbody>\n",
       "</table>\n",
       "</div>"
      ],
      "text/plain": [
       "             city  driver_count   type\n",
       "0      Kelseyland            63  Urban\n",
       "1      Nguyenbury             8  Urban\n",
       "2    East Douglas            12  Urban\n",
       "3   West Dawnfurt            34  Urban\n",
       "4  Rodriguezburgh            52  Urban"
      ]
     },
     "execution_count": 34,
     "metadata": {},
     "output_type": "execute_result"
    }
   ],
   "source": [
    "# slice the city df by Urban city type\n",
    "city_urban = city_df.loc[city_df[\"type\"]==\"Urban\"]\n",
    "city_urban.sort_values(\"city\")\n",
    "# driver count per city for urban city type\n",
    "drivers_urban = city_urban[\"driver_count\"].tolist()\n",
    "drivers_urban = [each*5 for each in drivers_urban]\n",
    "city_urban.head()"
   ]
  },
  {
   "cell_type": "code",
   "execution_count": 35,
   "metadata": {},
   "outputs": [
    {
     "data": {
      "text/html": [
       "<div>\n",
       "<style>\n",
       "    .dataframe thead tr:only-child th {\n",
       "        text-align: right;\n",
       "    }\n",
       "\n",
       "    .dataframe thead th {\n",
       "        text-align: left;\n",
       "    }\n",
       "\n",
       "    .dataframe tbody tr th {\n",
       "        vertical-align: top;\n",
       "    }\n",
       "</style>\n",
       "<table border=\"1\" class=\"dataframe\">\n",
       "  <thead>\n",
       "    <tr style=\"text-align: right;\">\n",
       "      <th></th>\n",
       "      <th>city</th>\n",
       "      <th>driver_count</th>\n",
       "      <th>type</th>\n",
       "    </tr>\n",
       "  </thead>\n",
       "  <tbody>\n",
       "    <tr>\n",
       "      <th>108</th>\n",
       "      <td>South Elizabethmouth</td>\n",
       "      <td>3</td>\n",
       "      <td>Rural</td>\n",
       "    </tr>\n",
       "    <tr>\n",
       "      <th>109</th>\n",
       "      <td>East Troybury</td>\n",
       "      <td>3</td>\n",
       "      <td>Rural</td>\n",
       "    </tr>\n",
       "    <tr>\n",
       "      <th>110</th>\n",
       "      <td>Kinghaven</td>\n",
       "      <td>3</td>\n",
       "      <td>Rural</td>\n",
       "    </tr>\n",
       "    <tr>\n",
       "      <th>111</th>\n",
       "      <td>New Johnbury</td>\n",
       "      <td>6</td>\n",
       "      <td>Rural</td>\n",
       "    </tr>\n",
       "    <tr>\n",
       "      <th>112</th>\n",
       "      <td>Erikport</td>\n",
       "      <td>3</td>\n",
       "      <td>Rural</td>\n",
       "    </tr>\n",
       "  </tbody>\n",
       "</table>\n",
       "</div>"
      ],
      "text/plain": [
       "                     city  driver_count   type\n",
       "108  South Elizabethmouth             3  Rural\n",
       "109         East Troybury             3  Rural\n",
       "110             Kinghaven             3  Rural\n",
       "111          New Johnbury             6  Rural\n",
       "112              Erikport             3  Rural"
      ]
     },
     "execution_count": 35,
     "metadata": {},
     "output_type": "execute_result"
    }
   ],
   "source": [
    "# slice the city df by Rural city type\n",
    "city_rural = city_df.loc[city_df[\"type\"]==\"Rural\"]\n",
    "city_rural.sort_values(\"city\")\n",
    "# driver count per city by Rural type\n",
    "drivers_rural = city_rural[\"driver_count\"].tolist()\n",
    "drivers_rural = [each*5 for each in drivers_rural]\n",
    "drivers_rural\n",
    "city_rural.head()"
   ]
  },
  {
   "cell_type": "code",
   "execution_count": 36,
   "metadata": {},
   "outputs": [
    {
     "data": {
      "text/html": [
       "<div>\n",
       "<style>\n",
       "    .dataframe thead tr:only-child th {\n",
       "        text-align: right;\n",
       "    }\n",
       "\n",
       "    .dataframe thead th {\n",
       "        text-align: left;\n",
       "    }\n",
       "\n",
       "    .dataframe tbody tr th {\n",
       "        vertical-align: top;\n",
       "    }\n",
       "</style>\n",
       "<table border=\"1\" class=\"dataframe\">\n",
       "  <thead>\n",
       "    <tr style=\"text-align: right;\">\n",
       "      <th></th>\n",
       "      <th>city</th>\n",
       "      <th>driver_count</th>\n",
       "      <th>type</th>\n",
       "    </tr>\n",
       "  </thead>\n",
       "  <tbody>\n",
       "    <tr>\n",
       "      <th>66</th>\n",
       "      <td>Carrollbury</td>\n",
       "      <td>4</td>\n",
       "      <td>Suburban</td>\n",
       "    </tr>\n",
       "    <tr>\n",
       "      <th>67</th>\n",
       "      <td>Williamchester</td>\n",
       "      <td>26</td>\n",
       "      <td>Suburban</td>\n",
       "    </tr>\n",
       "    <tr>\n",
       "      <th>68</th>\n",
       "      <td>New Michelleberg</td>\n",
       "      <td>9</td>\n",
       "      <td>Suburban</td>\n",
       "    </tr>\n",
       "    <tr>\n",
       "      <th>69</th>\n",
       "      <td>West Evan</td>\n",
       "      <td>4</td>\n",
       "      <td>Suburban</td>\n",
       "    </tr>\n",
       "    <tr>\n",
       "      <th>70</th>\n",
       "      <td>South Gracechester</td>\n",
       "      <td>19</td>\n",
       "      <td>Suburban</td>\n",
       "    </tr>\n",
       "  </tbody>\n",
       "</table>\n",
       "</div>"
      ],
      "text/plain": [
       "                  city  driver_count      type\n",
       "66         Carrollbury             4  Suburban\n",
       "67      Williamchester            26  Suburban\n",
       "68    New Michelleberg             9  Suburban\n",
       "69           West Evan             4  Suburban\n",
       "70  South Gracechester            19  Suburban"
      ]
     },
     "execution_count": 36,
     "metadata": {},
     "output_type": "execute_result"
    }
   ],
   "source": [
    "# slice the city df by suburban city type\n",
    "city_sub = city_df.loc[city_df[\"type\"]==\"Suburban\"]\n",
    "city_sub.sort_values(\"city\")\n",
    "# driver count per city by suburban type\n",
    "drivers_sub= city_sub[\"driver_count\"].tolist()\n",
    "drivers_sub = [each*5 for each in drivers_sub]\n",
    "city_sub.head()"
   ]
  },
  {
   "cell_type": "code",
   "execution_count": 37,
   "metadata": {},
   "outputs": [
    {
     "data": {
      "text/plain": [
       "city\n",
       "Alvarezhaven         23.93\n",
       "Alyssaberg           20.61\n",
       "Antoniomouth         23.63\n",
       "Aprilchester         21.98\n",
       "Arnoldview           25.11\n",
       "Carrollfort          25.40\n",
       "Davidtown            22.98\n",
       "Davistown            21.50\n",
       "East Douglas         26.17\n",
       "East Erin            24.48\n",
       "Edwardsbury          26.88\n",
       "Eriktown             25.48\n",
       "Fosterside           23.03\n",
       "Jacobfort            24.78\n",
       "Kellershire          24.17\n",
       "Kelseyland           21.81\n",
       "Kimberlychester      22.95\n",
       "Lake Jeffreyland     27.33\n",
       "Lake Jennaton        25.35\n",
       "Lake Sarashire       26.61\n",
       "Lake Stevenbury      24.66\n",
       "Lisatown             22.23\n",
       "Lisaville            28.43\n",
       "Maryside             26.84\n",
       "Mooreview            29.52\n",
       "New Aaron            26.86\n",
       "New Andreamouth      24.97\n",
       "New Christine        24.16\n",
       "New David            27.08\n",
       "New Jeffrey          24.13\n",
       "                     ...  \n",
       "Port Martinberg      22.33\n",
       "Port Samantha        27.05\n",
       "Prattfurt            23.35\n",
       "Rodriguezburgh       21.33\n",
       "Russellport          22.49\n",
       "Sandymouth           23.11\n",
       "Sarabury             23.49\n",
       "Smithhaven           22.79\n",
       "South Bryanstad      24.60\n",
       "South Josephville    26.82\n",
       "South Louis          27.09\n",
       "South Roy            26.03\n",
       "Spencertown          23.68\n",
       "Stewartview          21.61\n",
       "Swansonbury          27.46\n",
       "Torresshire          24.21\n",
       "Travisville          27.22\n",
       "Vickimouth           21.47\n",
       "West Alexis          19.52\n",
       "West Brandy          24.16\n",
       "West Brittanyton     25.44\n",
       "West Dawnfurt        22.33\n",
       "West Jefferyfurt     21.07\n",
       "West Oscar           24.28\n",
       "West Peter           24.88\n",
       "West Sydneyhaven     22.37\n",
       "Williamshire         26.99\n",
       "Wiseborough          22.68\n",
       "Yolandafurt          27.21\n",
       "Zimmermanmouth       28.30\n",
       "Name: fare, Length: 66, dtype: float64"
      ]
     },
     "execution_count": 37,
     "metadata": {},
     "output_type": "execute_result"
    }
   ],
   "source": [
    "# slice the merged df by urban type\n",
    "urban_df = merge_df.loc[merge_df[\"type\"]==\"Urban\"]\n",
    "urban_df.sort_values(\"city\")\n",
    "# groupby city\n",
    "group_urban = urban_df.groupby(\"city\")\n",
    "# no of rides per city-Urban\n",
    "rides_city_urban = group_urban[\"type\"].count()\n",
    "rides_city_urban\n",
    "# average fare per city-Urban\n",
    "avgfare_urban = round(group_urban[\"fare\"].mean(),2)\n",
    "avgfare_urban"
   ]
  },
  {
   "cell_type": "code",
   "execution_count": 38,
   "metadata": {},
   "outputs": [
    {
     "data": {
      "text/plain": [
       "city\n",
       "East Leslie             33.66\n",
       "East Stephen            39.05\n",
       "East Troybury           33.24\n",
       "Erikport                30.04\n",
       "Hernandezshire          32.00\n",
       "Horneland               21.48\n",
       "Jacksonfort             32.01\n",
       "Kennethburgh            36.93\n",
       "Kinghaven               34.98\n",
       "Manuelchester           49.62\n",
       "Matthewside             43.53\n",
       "New Johnbury            35.04\n",
       "North Whitney           38.15\n",
       "Shelbyhaven             34.83\n",
       "South Elizabethmouth    28.70\n",
       "South Joseph            38.98\n",
       "Stevensport             31.95\n",
       "West Kevintown          21.53\n",
       "Name: fare, dtype: float64"
      ]
     },
     "execution_count": 38,
     "metadata": {},
     "output_type": "execute_result"
    }
   ],
   "source": [
    "# slice the merged df by rural type\n",
    "rural_df = merge_df.loc[merge_df[\"type\"]==\"Rural\"]\n",
    "rural_df.sort_values(\"city\")\n",
    "# groupby city\n",
    "group_rural = rural_df.groupby(\"city\")\n",
    "# no of rides per city-Rural\n",
    "rides_city_rural = group_rural[\"type\"].count()\n",
    "rides_city_rural\n",
    "# average fare per city-Rural\n",
    "avgfare_rural = round(group_rural[\"fare\"].mean(),2)\n",
    "avgfare_rural"
   ]
  },
  {
   "cell_type": "code",
   "execution_count": 39,
   "metadata": {},
   "outputs": [
    {
     "data": {
      "text/plain": [
       "city\n",
       "Anitamouth              37.32\n",
       "Campbellport            33.71\n",
       "Carrollbury             36.61\n",
       "Clarkstad               31.05\n",
       "Conwaymouth             34.59\n",
       "East Cherylfurt         31.42\n",
       "East Jenniferchester    32.60\n",
       "Floresberg              32.31\n",
       "Jasonfort               27.83\n",
       "Jeffreyton              33.17\n",
       "Johnland                28.75\n",
       "Kyleton                 31.17\n",
       "Lake Brenda             29.79\n",
       "Martinmouth             30.50\n",
       "New Brandonborough      31.90\n",
       "New Cindyborough        31.03\n",
       "New Jessicamouth        32.81\n",
       "New Lynn                28.45\n",
       "New Michelleberg        24.97\n",
       "New Samanthaside        34.07\n",
       "North Tara              32.39\n",
       "North Tracyfort         26.86\n",
       "Paulfort                31.14\n",
       "Port Alexandria         26.32\n",
       "Port Guytown            28.24\n",
       "Port James              31.81\n",
       "Port Jose               31.19\n",
       "Port Michelleview       26.72\n",
       "Rodriguezview           31.87\n",
       "Sarahview               33.86\n",
       "South Gracechester      31.35\n",
       "South Jennifer          29.80\n",
       "South Shannonborough    26.52\n",
       "Thomastown              30.31\n",
       "Tiffanyton              28.51\n",
       "Webstertown             29.72\n",
       "West Evan               27.01\n",
       "West Pamelaborough      33.80\n",
       "West Paulport           33.28\n",
       "West Tony               29.61\n",
       "Williamchester          34.28\n",
       "Name: fare, dtype: float64"
      ]
     },
     "execution_count": 39,
     "metadata": {},
     "output_type": "execute_result"
    }
   ],
   "source": [
    "# slice the merged df by Suburban type\n",
    "sub_df = merge_df.loc[merge_df[\"type\"]==\"Suburban\"]\n",
    "sub_df.sort_values(\"city\")\n",
    "# groupby city\n",
    "group_sub = sub_df.groupby(\"city\")\n",
    "# no of rides per city-Suburban\n",
    "rides_city_sub = group_sub[\"type\"].count()\n",
    "rides_city_sub\n",
    "# average fare per city-Suburban\n",
    "avgfare_sub = round(group_sub[\"fare\"].mean(),2)\n",
    "avgfare_sub\n"
   ]
  },
  {
   "cell_type": "code",
   "execution_count": 40,
   "metadata": {},
   "outputs": [
    {
     "data": {
      "image/png": "[encoded data removed]",
      "text/plain": [
       "<matplotlib.figure.Figure at 0x1b664ac9e10>"
      ]
     },
     "metadata": {},
     "output_type": "display_data"
    }
   ],
   "source": [
    "# create scatterplots for each city type dataframes\n",
    "# scatter plot for urban\n",
    "fig = plt.figure(figsize=(10,8))\n",
    "plt.grid(True)\n",
    "sct_urban = plt.scatter(x=rides_city_urban,y=avgfare_urban,marker=\"o\",\n",
    "                        color=\"lightcoral\",s=drivers_urban,edgecolors='black',alpha=0.75,label=\"Urban\")\n",
    "# scatter plot for rural\n",
    "sct_rural = plt.scatter(x=rides_city_rural,y=avgfare_rural,marker=\"o\",\n",
    "                        color=\"gold\",s=drivers_rural,edgecolors='black',alpha=0.75,label=\"Rural\")\n",
    "# scatter plot for Suburban\n",
    "sct_sub = plt.scatter(x=rides_city_sub,y=avgfare_sub,marker=\"o\",\n",
    "                      color=\"lightskyblue\",s=drivers_sub,edgecolors='black',alpha=0.75,label=\"Suburban\")\n",
    "\n",
    "# pass the legends and set equal sizes for legend points\n",
    "lgnd = plt.legend(handles=[sct_urban,sct_rural,sct_sub],loc=\"best\")\n",
    "lgnd.legendHandles[0]._sizes = [70]\n",
    "lgnd.legendHandles[1]._sizes = [70]\n",
    "lgnd.legendHandles[2]._sizes = [70]\n",
    "\n",
    "# set annotation texts and their positions on the chart\n",
    "plt.text(36,37,'Note',fontsize=10)\n",
    "plt.text(36,35,'circle size correlates with driver count per city',fontsize=10)\n",
    "\n",
    "# setting x and y limits\n",
    "plt.xlim(0,35)\n",
    "plt.ylim(0,50)\n",
    "\n",
    "# axis labels and title\n",
    "plt.savefig(\"mypyber.png\",dpi=fig.dpi)\n",
    "plt.title(\"Pyber Ride Sharing Data(2016)\")\n",
    "plt.xlabel(\"Total Number Of Rides(Per City)\")\n",
    "plt.ylabel(\"Average Fare($)\")\n",
    "\n",
    "plt.show()\n"
   ]
  },
  {
   "cell_type": "code",
   "execution_count": 41,
   "metadata": {},
   "outputs": [
    {
     "data": {
      "text/plain": [
       "[6.6849998845271221, 31.948580476976847, 62.965459783938456]"
      ]
     },
     "execution_count": 41,
     "metadata": {},
     "output_type": "execute_result"
    }
   ],
   "source": [
    "# pie charts\n",
    "# % of total fares by city type\n",
    "# % of total fare for urban\n",
    "# total fare for all the city types combined\n",
    "total_fare = round(ride_df[\"fare\"].sum(),2)\n",
    "# total fare for Urban\n",
    "grouped_type = merge_df.groupby(\"type\")\n",
    "total_fare_type = grouped_type[\"fare\"].sum()\n",
    "# % total fare for each city type\n",
    "percent_fare_type = [(x/total_fare)*100 for x in total_fare_type]\n",
    "percent_fare_type\n"
   ]
  },
  {
   "cell_type": "code",
   "execution_count": 42,
   "metadata": {},
   "outputs": [
    {
     "data": {
      "text/plain": [
       "<matplotlib.text.Text at 0x1b664ef7860>"
      ]
     },
     "execution_count": 42,
     "metadata": {},
     "output_type": "execute_result"
    }
   ],
   "source": [
    "# Labels for the sections of our pie chart\n",
    "labels = [\"Urban\", \"Suburban\", \"Rural\"]\n",
    "\n",
    "# The values of each section of the pie chart\n",
    "percent_fare_type\n",
    "\n",
    "# The colors of each section of the pie chart\n",
    "colors = [\"lightcoral\", \"gold\", \"yellowgreen\"]\n",
    "\n",
    "# Tells matplotlib to seperate the \"Python\" section from the others\n",
    "explode = [0, 0, 0.25]\n",
    "# Creates the pie chart based upon the values above\n",
    "# Automatically finds the percentages of each part of the pie chart\n",
    "plt.pie(percent_fare_type, explode=explode, labels=labels, colors=colors,\n",
    "        autopct=\"%1.1f%%\", shadow=True, startangle=240)\n",
    "plt.title(\"% Of Total Fares (Per City Type)\")"
   ]
  },
  {
   "cell_type": "code",
   "execution_count": 15,
   "metadata": {},
   "outputs": [
    {
     "data": {
      "text/plain": [
       "(-1.2736209842843724,\n",
       " 1.1218596353118722,\n",
       " -1.123175967896636,\n",
       " 1.3197875676276893)"
      ]
     },
     "execution_count": 15,
     "metadata": {},
     "output_type": "execute_result"
    }
   ],
   "source": [
    "# a pie chart with equal axes\n",
    "plt.axis(\"equal\")"
   ]
  },
  {
   "cell_type": "code",
   "execution_count": 16,
   "metadata": {},
   "outputs": [
    {
     "data": {
      "image/png": "[encoded data removed]",
      "text/plain": [
       "<matplotlib.figure.Figure at 0x1b6641b9b00>"
      ]
     },
     "metadata": {},
     "output_type": "display_data"
    }
   ],
   "source": [
    "# % of Total fares by city Type\n",
    "plt.show()"
   ]
  },
  {
   "cell_type": "code",
   "execution_count": 17,
   "metadata": {},
   "outputs": [
    {
     "data": {
      "text/plain": [
       "[5.2631578947368416, 27.663157894736841, 68.421052631578945]"
      ]
     },
     "execution_count": 17,
     "metadata": {},
     "output_type": "execute_result"
    }
   ],
   "source": [
    "# % of total rides by city type\n",
    "# Total rides for all cities combined\n",
    "total_rides = ride_df[\"ride_id\"].count()\n",
    "\n",
    "# groupby city type\n",
    "total_rides_type = grouped_type[\"ride_id\"].count()\n",
    "total_rides_type\n",
    "\n",
    "# % total rides for each city type\n",
    "percent_rides_type = [(x/total_rides)*100 for x in total_rides_type]\n",
    "percent_rides_type"
   ]
  },
  {
   "cell_type": "code",
   "execution_count": 44,
   "metadata": {},
   "outputs": [
    {
     "data": {
      "text/plain": [
       "(-1.2736209842843724,\n",
       " 1.1218596353118722,\n",
       " -1.1239934363056159,\n",
       " 1.336954404216264)"
      ]
     },
     "execution_count": 44,
     "metadata": {},
     "output_type": "execute_result"
    }
   ],
   "source": [
    "# Labels for the sections of our pie chart\n",
    "labels = [\"Urban\", \"Suburban\", \"Rural\"]\n",
    "\n",
    "# The values of each section of the pie chart\n",
    "percent_rides_type\n",
    "\n",
    "# The colors of each section of the pie chart\n",
    "colors = [\"lightcoral\", \"gold\", \"yellowgreen\"]\n",
    "\n",
    "# Tells matplotlib to seperate the \"Python\" section from the others\n",
    "explode = [0, 0, 0.25]\n",
    "# Creates the pie chart based upon the values above\n",
    "# Automatically finds the percentages of each part of the pie chart\n",
    "plt.pie(percent_rides_type, explode=explode, labels=labels, colors=colors,\n",
    "        autopct=\"%1.1f%%\", shadow=True, startangle=240)\n",
    "plt.title(\"% Of Total Rides(Per City Type)\")\n",
    "# Tells matplotlib that we want a pie chart with equal axes\n",
    "plt.axis(\"equal\")"
   ]
  },
  {
   "cell_type": "code",
   "execution_count": 21,
   "metadata": {},
   "outputs": [
    {
     "data": {
      "image/png": "[encoded data removed]",
      "text/plain": [
       "<matplotlib.figure.Figure at 0x1b6644a5668>"
      ]
     },
     "metadata": {},
     "output_type": "display_data"
    }
   ],
   "source": [
    "# % of Total rides Per city Type\n",
    "plt.show()"
   ]
  },
  {
   "cell_type": "code",
   "execution_count": 43,
   "metadata": {},
   "outputs": [
    {
     "data": {
      "text/plain": [
       "[3.1054045983875787, 19.050462824723798, 77.844132576888626]"
      ]
     },
     "execution_count": 43,
     "metadata": {},
     "output_type": "execute_result"
    }
   ],
   "source": [
    "# % of total drivers per City Type\n",
    "# Total drivers for all cities combined\n",
    "total_drivers = city_df[\"driver_count\"].sum()\n",
    "\n",
    "# total drivers for urban\n",
    "# groupby city type and city\n",
    "grouped_city_type = city_df.groupby(\"type\")\n",
    "total_drivers_type = grouped_city_type[\"driver_count\"].sum()\n",
    "\n",
    "# % total drivers for each city type\n",
    "percent_drivers_type = [(x/total_drivers)*100 for x in total_drivers_type]\n",
    "percent_drivers_type"
   ]
  },
  {
   "cell_type": "code",
   "execution_count": 45,
   "metadata": {},
   "outputs": [
    {
     "data": {
      "text/plain": [
       "(-1.2736209842843724,\n",
       " 1.1218596353118722,\n",
       " -1.1307943972861136,\n",
       " 1.3644098122476334)"
      ]
     },
     "execution_count": 45,
     "metadata": {},
     "output_type": "execute_result"
    }
   ],
   "source": [
    "# Labels for the sections of our pie chart\n",
    "labels = [\"Urban\", \"Suburban\", \"Rural\"]\n",
    "\n",
    "# The values of each section of the pie chart\n",
    "percent_drivers_type\n",
    "\n",
    "# The colors of each section of the pie chart\n",
    "colors = [\"lightcoral\", \"gold\", \"yellowgreen\"]\n",
    "\n",
    "# Tells matplotlib to seperate the \"Python\" section from the others\n",
    "explode = [0, 0, 0.25]\n",
    "# Creates the pie chart based upon the values above\n",
    "# Automatically finds the percentages of each part of the pie chart\n",
    "plt.pie(percent_drivers_type, explode=explode, labels=labels, colors=colors,\n",
    "        autopct=\"%1.1f%%\", shadow=True, startangle=240)\n",
    "plt.title(\"% Of Total Drivers (Per City Type)\")\n",
    "# Tells matplotlib that we want a pie chart with equal axes\n",
    "plt.axis(\"equal\")"
   ]
  },
  {
   "cell_type": "code",
   "execution_count": 26,
   "metadata": {},
   "outputs": [
    {
     "data": {
      "image/png": "[encoded data removed]",
      "text/plain": [
       "<matplotlib.figure.Figure at 0x1b664773eb8>"
      ]
     },
     "metadata": {},
     "output_type": "display_data"
    }
   ],
   "source": [
    "# % of Total drivers Per city Type\n",
    "plt.show()"
   ]
  }
 ],
 "metadata": {
  "kernelspec": {
   "display_name": "Python 3",
   "language": "python",
   "name": "python3"
  },
  "language_info": {
   "codemirror_mode": {
    "name": "ipython",
    "version": 3
   },
   "file_extension": ".py",
   "mimetype": "text/x-python",
   "name": "python",
   "nbconvert_exporter": "python",
   "pygments_lexer": "ipython3",
   "version": "3.6.1"
  }
 },
 "nbformat": 4,
 "nbformat_minor": 2
}
